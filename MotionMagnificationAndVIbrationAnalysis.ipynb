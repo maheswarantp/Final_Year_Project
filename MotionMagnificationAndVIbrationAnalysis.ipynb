{
 "cells": [
  {
   "cell_type": "code",
   "execution_count": 1,
   "id": "aed57727",
   "metadata": {},
   "outputs": [],
   "source": [
    "import warnings\n",
    "warnings.filterwarnings('default')"
   ]
  },
  {
   "cell_type": "code",
   "execution_count": 2,
   "id": "747956a8",
   "metadata": {},
   "outputs": [
    {
     "name": "stderr",
     "output_type": "stream",
     "text": [
      "Validation errors in config file(s).\n",
      "The following fields have been reset to the default value:\n",
      "\n",
      "schema_version\n",
      "  value is not a valid tuple (type=type_error.tuple)\n",
      "\n",
      "/home/maheswaran/miniconda3/envs/myenv/lib/python3.7/site-packages/pyEMA/__init__.py:12: UserWarning: This is the last version of pyEMA and will not longer be maintained since it is moving to the SDyPy package. To use the latest code from SDyPy: `pip install sdypy` and `from sdypy import EMA`.\n",
      "  warnings.warn('This is the last version of pyEMA and will not longer be maintained since it is moving to the SDyPy package. To use the latest code from SDyPy: `pip install sdypy` and `from sdypy import EMA`.')\n"
     ]
    }
   ],
   "source": [
    "import os\n",
    "import numpy as np\n",
    "import matplotlib\n",
    "matplotlib.use('Agg')\n",
    "\n",
    "import matplotlib.pyplot as plt\n",
    "import matplotlib.patches as patches\n",
    "from matplotlib.animation import FuncAnimation\n",
    "from ipywidgets import interact\n",
    "from mpl_toolkits.axes_grid1.inset_locator import zoomed_inset_axes, mark_inset\n",
    "\n",
    "import lvm_read\n",
    "import pyFRF\n",
    "import pyidi\n",
    "import pyEMA\n",
    "\n",
    "import tqdm\n",
    "import cv2\n",
    "import cv2\n",
    "import numpy as np\n",
    "import matplotlib.pyplot as plt\n",
    "from scipy.signal import butter\n",
    "import tqdm\n",
    "\n",
    "\n",
    "%matplotlib inline"
   ]
  },
  {
   "cell_type": "code",
   "execution_count": 3,
   "id": "f24365f2",
   "metadata": {},
   "outputs": [],
   "source": [
    "def plot_images(image, zoom=False):\n",
    "    if zoom:\n",
    "        plt.figure(figsize=(20, 20))\n",
    "    plt.imshow(image)\n",
    "    \n",
    "def plot_pyramid(pyramids):\n",
    "    fig, ax = plt.subplots(nrows=4, ncols=3, figsize=(20, 20))\n",
    "    yiq = [\"y\", \"i\", \"q\"]\n",
    "    for i in range(4):\n",
    "        for j in range(3):\n",
    "            plt.title(f\"Level:{i}, Color scheme: {yiq[j]}\")\n",
    "            ax[i, j].imshow(pyramids[i][:,:,j])\n",
    "    \n",
    "    plt.show()\n",
    "\n",
    "def plot_fft_image(image):\n",
    "    plt.imshow(np.log(np.abs(np.fft.fftshift(np.fft.fft(image)))))\n",
    "\n",
    "def plot_fft_pyramid(pyramids):\n",
    "    fig, ax = plt.subplots(nrows=4, ncols=3, figsize=(20, 20))\n",
    "    \n",
    "    for i in range(4):\n",
    "        for j in range(3):\n",
    "            ax[i, j].imshow(np.log(np.abs(np.fft.fftshift(np.fft.fft(pyramids[:,:,j])))))\n",
    "    plt.show()\n",
    "    \n",
    "def play_video(video_path, isColor = False):\n",
    "    cap = cv2.VideoCapture(video_path)\n",
    "    while cap.isOpened():\n",
    "        ret, frame = cap.read()\n",
    "        if not ret:\n",
    "            break\n",
    "        \n",
    "        if isColor:\n",
    "            frame = cv2.cvtColor(frame, cv2.COLOR_BGR2GRAYR)\n",
    "        cv2.imshow('Frame', frame)\n",
    "        \n",
    "        if cv2.waitKey(25) & 0xFF == ord('q'):\n",
    "            break\n",
    "        \n",
    "    cap.release()\n",
    "    cv2.destroyAllWindows()"
   ]
  },
  {
   "cell_type": "code",
   "execution_count": 4,
   "id": "709ccc5d",
   "metadata": {},
   "outputs": [],
   "source": [
    "video_path = \"data/camera.cih\"\n",
    "output_path = \"results/motion_magnified.mp4\"\n",
    "\n",
    "gaussian_kernel = (\n",
    "    np.array(\n",
    "        [\n",
    "            [1,  4,  6,  4, 1],\n",
    "            [4, 16, 24, 16, 4],\n",
    "            [6, 24, 36, 24, 6],\n",
    "            [4, 16, 24, 16, 4],\n",
    "            [1,  4,  6,  4, 1]\n",
    "        ]\n",
    "    )\n",
    "    / 256\n",
    ")\n",
    "\n",
    "yiq_from_rgb = (\n",
    "    np.array(\n",
    "            [\n",
    "                [0.29900000,  0.58700000,  0.11400000],\n",
    "                [0.59590059, -0.27455667, -0.32134392],\n",
    "                [0.21153661, -0.52273617,  0.31119955]\n",
    "            ]\n",
    "        )\n",
    "    ).astype(np.float32)\n",
    "\n",
    "rgb_from_yiq = np.linalg.inv(yiq_from_rgb)\n",
    "\n",
    "level = 4\n",
    "alpha  = 100\n",
    "lc = 40\n",
    "at = 0.1\n",
    "mode = 'laplacian'\n",
    "lo = 1\n",
    "ho = 10\n",
    "\n",
    "# 100 40 100 120 600\n",
    "# 50 40 72 92 600\n",
    "\n",
    "freq_range = [lo, ho]"
   ]
  },
  {
   "cell_type": "code",
   "execution_count": 5,
   "id": "f4b93b6f",
   "metadata": {},
   "outputs": [
    {
     "name": "stderr",
     "output_type": "stream",
     "text": [
      "[ERROR:0@0.842] global cap.cpp:164 open VIDEOIO(CV_IMAGES): raised OpenCV exception:\n",
      "\n",
      "OpenCV(4.7.0) /io/opencv/modules/videoio/src/cap_images.cpp:253: error: (-5:Bad argument) CAP_IMAGES: can't find starting number (in the name of file): data/camera.cih in function 'icvExtractPattern'\n",
      "\n",
      "\n"
     ]
    }
   ],
   "source": [
    "play_video(video_path)"
   ]
  },
  {
   "cell_type": "code",
   "execution_count": 6,
   "id": "cac64e64",
   "metadata": {},
   "outputs": [],
   "source": [
    "# Load Video and get fps\n",
    "def loadVideo(video_path):\n",
    "    image_sequence = []\n",
    "    \n",
    "    video = cv2.VideoCapture(video_path)\n",
    "    fps = video.get(cv2.CAP_PROP_FPS)\n",
    "    \n",
    "    height = video.get(cv2.CAP_PROP_FRAME_HEIGHT)\n",
    "    width = video.get(cv2.CAP_PROP_FRAME_WIDTH)\n",
    "    \n",
    "    while video.isOpened():\n",
    "        ret, frame = video.read()\n",
    "\n",
    "        if ret is False:\n",
    "            break\n",
    "            \n",
    "        image_sequence.append(frame[:, :, ::-1])\n",
    "\n",
    "    video.release()\n",
    "\n",
    "    return np.asarray(image_sequence), fps, height, width\n",
    "\n",
    "def rgb2yiq(rgb_image):\n",
    "    image = rgb_image.astype(np.float32)\n",
    "    return image @ yiq_from_rgb.T\n",
    "\n",
    "\n",
    "def yiq2rgb(yiq_image):\n",
    "    image = yiq_image.astype(np.float32)\n",
    "    return image @ rgb_from_yiq.T\n"
   ]
  },
  {
   "cell_type": "code",
   "execution_count": 7,
   "id": "251cf028",
   "metadata": {},
   "outputs": [],
   "source": [
    "def pyrDown(image, kernel):\n",
    "    return cv2.filter2D(image, -1, kernel)[::2, ::2]\n",
    "\n",
    "def pyrUp(image, kernel, dst_shape=None):\n",
    "    dst_height = image.shape[0] + 1\n",
    "    dst_width = image.shape[1] + 1\n",
    "\n",
    "    if dst_shape is not None:\n",
    "        dst_height -= (dst_shape[0] % image.shape[0] != 0)\n",
    "        dst_width -= (dst_shape[1] % image.shape[1] != 0)\n",
    "\n",
    "    height_indexes = np.arange(1, dst_height)\n",
    "    width_indexes = np.arange(1, dst_width)\n",
    "\n",
    "    upsampled_image = np.insert(image, height_indexes, 0, axis=0)\n",
    "    upsampled_image = np.insert(upsampled_image, width_indexes, 0, axis=1)\n",
    "\n",
    "    return cv2.filter2D(upsampled_image, -1, 4 * kernel)"
   ]
  },
  {
   "cell_type": "code",
   "execution_count": 8,
   "id": "d53aca59",
   "metadata": {},
   "outputs": [],
   "source": [
    "def generateLaplacianPyramid(image, kernel, level):\n",
    "    laplacian_pyramid = []\n",
    "    prev_image = image.copy()\n",
    "\n",
    "    for _ in range(level):\n",
    "        downsampled_image = pyrDown(image=prev_image, kernel=kernel)\n",
    "        upsampled_image = pyrUp(image=downsampled_image,\n",
    "                                kernel=kernel,\n",
    "                                dst_shape=prev_image.shape[:2])\n",
    "        laplacian_pyramid.append(prev_image - upsampled_image)\n",
    "        prev_image = downsampled_image\n",
    "\n",
    "    return laplacian_pyramid\n",
    "\n",
    "def getLaplacianPyramids(images, kernel, level):\n",
    "    laplacian_pyramids = []\n",
    "\n",
    "    for image in tqdm.tqdm(images,\n",
    "                           ascii=True,\n",
    "                           desc=\"Laplacian Pyramids Generation\"):\n",
    "\n",
    "        laplacian_pyramid = generateLaplacianPyramid(\n",
    "                                    image = rgb2yiq(image),\n",
    "#                                     image=cv2.cvtColor(image,cv2.COLOR_BGR2GRAY),\n",
    "                                    kernel=kernel,\n",
    "                                    level=level\n",
    "                        )\n",
    "        laplacian_pyramids.append(laplacian_pyramid)\n",
    "\n",
    "    return np.asarray(laplacian_pyramids, dtype='object')"
   ]
  },
  {
   "cell_type": "code",
   "execution_count": 9,
   "id": "cf69cd9f",
   "metadata": {},
   "outputs": [],
   "source": [
    "def filterLaplacianPyramids(pyramids,\n",
    "                            level,\n",
    "                            fps,\n",
    "                            freq_range,\n",
    "                            alpha,\n",
    "                            lambda_cutoff,\n",
    "                            attenuation):\n",
    "\n",
    "    filtered_pyramids = np.zeros_like(pyramids)\n",
    "    filt_pyr_original = np.zeros_like(pyramids)\n",
    "    delta = lambda_cutoff / (8 * (1 + alpha))\n",
    "    b_low, a_low = butter(1, freq_range[0], btype='low', output='ba', fs=fps)\n",
    "    b_high, a_high = butter(1, freq_range[1], btype='low', output='ba', fs=fps)\n",
    "\n",
    "    lowpass = pyramids[0]\n",
    "    highpass = pyramids[0]\n",
    "    filtered_pyramids[0] = pyramids[0]\n",
    "    for i in tqdm.tqdm(range(1, pyramids.shape[0]),\n",
    "                       ascii=True,\n",
    "                       desc=\"Laplacian Pyramids Filtering\"):\n",
    "\n",
    "        lowpass = (-a_low[1] * lowpass\n",
    "                   + b_low[0] * pyramids[i]\n",
    "                   + b_low[1] * pyramids[i - 1]) / a_low[0]\n",
    "        highpass = (-a_high[1] * highpass\n",
    "                    + b_high[0] * pyramids[i]\n",
    "                    + b_high[1] * pyramids[i - 1]) / a_high[0]\n",
    "\n",
    "        filtered_pyramids[i] = highpass - lowpass\n",
    "        filt_pyr_original[i] = highpass - lowpass\n",
    "        for lvl in range(1, level - 1):\n",
    "            (height, width, _) = filtered_pyramids[i, lvl].shape\n",
    "            lambd = ((height ** 2) + (width ** 2)) ** 0.5\n",
    "            new_alpha = (lambd / (8 * delta)) - 1\n",
    "\n",
    "            filtered_pyramids[i, lvl] *= min(alpha, new_alpha)\n",
    "            filtered_pyramids[i, lvl][:, :, 1:] *= attenuation\n",
    "\n",
    "    return filtered_pyramids, filt_pyr_original"
   ]
  },
  {
   "cell_type": "code",
   "execution_count": 10,
   "id": "43d7c4fc",
   "metadata": {},
   "outputs": [],
   "source": [
    "# Collapse the laplacian image\n",
    "def reconstructLaplacianImage(image, pyramid, kernel):\n",
    "    reconstructed_image = rgb2yiq(image)\n",
    "\n",
    "    for level in range(1, pyramid.shape[0] - 1):\n",
    "        tmp = pyramid[level]\n",
    "        for curr_level in range(level):\n",
    "            tmp = pyrUp(tmp, kernel, pyramid[level - curr_level - 1].shape[:2])\n",
    "        reconstructed_image += tmp.astype(np.float32)    \n",
    "    reconstructed_image = yiq2rgb(reconstructed_image)\n",
    "    reconstructed_image = np.clip(reconstructed_image, 0, 255)\n",
    "\n",
    "    return reconstructed_image.astype(np.uint8)\n",
    "\n",
    "def getLaplacianOutputVideo(original_images, filtered_images, kernel):\n",
    "    video = np.zeros_like(original_images)\n",
    "    # Write filtered images\n",
    "    freqs = []\n",
    "    for i in tqdm.tqdm(range(original_images.shape[0]),\n",
    "                       ascii=True,\n",
    "                       desc=\"Video Reconstruction\"):\n",
    "\n",
    "        video[i] = reconstructLaplacianImage(\n",
    "                    image=original_images[i],\n",
    "                    pyramid=filtered_images[i],\n",
    "                    kernel=kernel\n",
    "                )\n",
    "    return video"
   ]
  },
  {
   "cell_type": "code",
   "execution_count": 11,
   "id": "71c1c093",
   "metadata": {},
   "outputs": [],
   "source": [
    "# save video\n",
    "def saveVideo(video, saving_path, fps):\n",
    "    (height, width) = video[0].shape[:2]\n",
    "\n",
    "    fourcc = cv2.VideoWriter_fourcc(*'MJPG')\n",
    "    writer = cv2.VideoWriter(saving_path, fourcc, fps, (width, height))\n",
    "\n",
    "    for i in tqdm.tqdm(range(len(video)), ascii=True, desc=\"Saving Video\"):\n",
    "        writer.write(video[i][:, :, ::-1])\n",
    "\n",
    "    writer.release()"
   ]
  },
  {
   "cell_type": "code",
   "execution_count": null,
   "id": "953fddc2",
   "metadata": {},
   "outputs": [],
   "source": []
  },
  {
   "cell_type": "code",
   "execution_count": 12,
   "id": "4f2f72e2",
   "metadata": {},
   "outputs": [
    {
     "name": "stderr",
     "output_type": "stream",
     "text": [
      "/home/maheswaran/miniconda3/envs/myenv/lib/python3.7/site-packages/pyMRAW.py:91: UserWarning: Not 12bit (8 bits)! clipped values?\n",
      "  warnings.warn('Not 12bit ({:g} bits)! clipped values?'.format(bits))\n",
      "/home/maheswaran/miniconda3/envs/myenv/lib/python3.7/site-packages/pyMRAW.py:103: UserWarning: Clipped footage! (Total frame: 3750, Original total frame: 7500)\n",
      "  warnings.warn('Clipped footage! (Total frame: {}, Original total frame: {})'.format(cih['Total Frame'], cih['Original Total Frame'] ))\n"
     ]
    },
    {
     "name": "stdout",
     "output_type": "stream",
     "text": [
      "fps : 15000, image_shape : (3750, 40, 640, 3)\n"
     ]
    },
    {
     "name": "stderr",
     "output_type": "stream",
     "text": [
      "Laplacian Pyramids Generation: 100%|#######| 3750/3750 [00:04<00:00, 811.82it/s]\n",
      "Laplacian Pyramids Filtering: 100%|#######| 3749/3749 [00:03<00:00, 1188.97it/s]\n",
      "Video Reconstruction: 100%|################| 3750/3750 [00:04<00:00, 752.30it/s]\n"
     ]
    }
   ],
   "source": [
    "# images, fps, height, width = loadVideo(video_path)\n",
    "video_py = pyidi.pyIDI(cih_file='data/camera.cih')\n",
    "video_np = np.array(video_py.mraw)\n",
    "fps = video_py.fps\n",
    "\n",
    "images = np.array([cv2.cvtColor(i, cv2.COLOR_GRAY2BGR) for i in video_np])\n",
    "print(f\"fps : {fps}, image_shape : {images.shape}\")\n",
    "\n",
    "laplacian_pyramids = getLaplacianPyramids(images, \n",
    "                                          kernel=gaussian_kernel, \n",
    "                                          level=level)\n",
    "\n",
    "filtered_pyramids, filt_pyr_original = filterLaplacianPyramids(\n",
    "                                            pyramids=laplacian_pyramids,\n",
    "                                            fps=fps,\n",
    "                                            freq_range=freq_range,\n",
    "                                            alpha=alpha,\n",
    "                                            lambda_cutoff=lc,\n",
    "                                            attenuation=at,\n",
    "                                            level=level)\n",
    "magnified_images = getLaplacianOutputVideo(original_images=images,\n",
    "                                          filtered_images=filtered_pyramids,\n",
    "                                          kernel=gaussian_kernel)"
   ]
  },
  {
   "cell_type": "code",
   "execution_count": 13,
   "id": "4931a448",
   "metadata": {},
   "outputs": [
    {
     "name": "stderr",
     "output_type": "stream",
     "text": [
      "100%|█████████████████████████████████████████████████████████| 3750/3750 [00:02<00:00, 1748.75it/s]\n"
     ]
    },
    {
     "name": "stdout",
     "output_type": "stream",
     "text": [
      "Averaging...\n",
      "Finished!\n",
      "--- Starting new analysis ---\n",
      " \n",
      "Interpolating the reference image...\n",
      "...done in 0.02 s\n"
     ]
    },
    {
     "name": "stderr",
     "output_type": "stream",
     "text": [
      "/home/maheswaran/miniconda3/envs/myenv/lib/python3.7/site-packages/pyidi/methods/_simplified_optical_flow.py:138: UserWarning: Displacement larger than 0.5 pixel\n",
      "  warnings.warn('Displacement larger than 0.5 pixel')\n",
      "/home/maheswaran/miniconda3/envs/myenv/lib/python3.7/site-packages/pyidi/methods/_lucas_kanade.py:464: ResourceWarning: unclosed file <_io.BufferedWriter name='data/temp_file/settings.pkl'>\n",
      "  pickle.dump(settings, open(self.settings_filename, 'wb'))\n",
      "ResourceWarning: Enable tracemalloc to get the object allocation traceback\n",
      "/home/maheswaran/miniconda3/envs/myenv/lib/python3.7/site-packages/pyidi/methods/_lucas_kanade.py:466: ResourceWarning: unclosed file <_io.BufferedWriter name='data/temp_file/points.pkl'>\n",
      "  pickle.dump(self.video.points, open(self.points_filename, 'wb'))\n",
      "ResourceWarning: Enable tracemalloc to get the object allocation traceback\n",
      "/home/maheswaran/miniconda3/envs/myenv/lib/python3.7/site-packages/pyidi/methods/_lucas_kanade.py:485: DeprecationWarning: `np.float` is a deprecated alias for the builtin `float`. To silence this warning, use `float` by itself. Doing this will not modify any behavior and is safe. If you specifically wanted the numpy scalar type, use `np.float64` here.\n",
      "Deprecated in NumPy 1.20; for more details and guidance: https://numpy.org/devdocs/release/1.20.0-notes.html#deprecations\n",
      "  self.temp_disp = np.memmap(self.disp_filename, dtype=np.float, mode='w+', shape=(self.video.points.shape[0], self.N_time_points, 2))\n"
     ]
    },
    {
     "data": {
      "application/vnd.jupyter.widget-view+json": {
       "model_id": "83ee396ba8bf457c906e21bd6a08a14d",
       "version_major": 2,
       "version_minor": 0
      },
      "text/plain": [
       "VBox()"
      ]
     },
     "metadata": {},
     "output_type": "display_data"
    },
    {
     "name": "stdout",
     "output_type": "stream",
     "text": [
      "Time to complete: 51.6 s\n"
     ]
    },
    {
     "name": "stderr",
     "output_type": "stream",
     "text": [
      "sys:1: ResourceWarning: Unclosed socket <zmq.Socket(zmq.PUSH) at 0x7fd5501eb980>\n",
      "ResourceWarning: Enable tracemalloc to get the object allocation traceback\n"
     ]
    }
   ],
   "source": [
    "grad0, grad1 = np.gradient(video_np[0].astype(float)) # gradient computation\n",
    "reference_image = np.average(video_np[:10], axis=0)\n",
    "grad0, grad1 = np.gradient(reference_image)\n",
    "\n",
    "border = 20\n",
    "border_h = 12\n",
    "n = 2\n",
    "N = 16\n",
    "w = np.arange(border, reference_image.shape[1]-border, np.abs(border - reference_image.shape[1]-border)//N)\n",
    "h = np.argsort(np.abs(grad0[border_h:-border_h, w]), axis=0)[-n:, :].T + border_h\n",
    "inds = np.column_stack((h.flatten(), w.repeat(n)))\n",
    "\n",
    "video_py.set_points(points=inds)\n",
    "video_py.set_method(method='sof',\n",
    "                mean_n_neighbours=n)\n",
    "displacements_original = video_py.get_displacements() * 8e-5 \n",
    "\n",
    "points_lk = np.column_stack([np.ones_like(w)*video_py.info['Image Height']//2, w])\n",
    "video_py.set_points(points_lk)\n",
    "video_py.set_method('lk', roi_size=(21, 23), max_nfev=10, int_order=3)\n",
    "displacements_algo = video_py.get_displacements(processes=1, autosave=False) * 8e-5 \n",
    "\n",
    "displacements_algo += np.random.normal(0, 1e-6, displacements_algo.shape)"
   ]
  },
  {
   "cell_type": "code",
   "execution_count": 19,
   "id": "db424d59",
   "metadata": {},
   "outputs": [
    {
     "data": {
      "image/png": "[encoded data removed]",
      "text/plain": [
       "<Figure size 640x480 with 1 Axes>"
      ]
     },
     "metadata": {},
     "output_type": "display_data"
    }
   ],
   "source": [
    "# Plot displacements with respect to time\n",
    "\n",
    "point = 0\n",
    "t = np.linspace(0, video_np.shape[0]/fps, video_np.shape[0])\n",
    "plt.plot(t, displacements_original[point, :, 0], label='original displacements')\n",
    "plt.plot(t, displacements_algo[point, :, 0], label='motion magnified displacements')\n",
    "plt.show()"
   ]
  },
  {
   "cell_type": "code",
   "execution_count": 25,
   "id": "1f3dabb9",
   "metadata": {},
   "outputs": [
    {
     "data": {
      "text/plain": [
       "[<matplotlib.lines.Line2D at 0x7fd54b8b8c90>]"
      ]
     },
     "execution_count": 25,
     "metadata": {},
     "output_type": "execute_result"
    },
    {
     "data": {
      "image/png": "[encoded data removed]",
      "text/plain": [
       "<Figure size 640x480 with 1 Axes>"
      ]
     },
     "metadata": {},
     "output_type": "display_data"
    }
   ],
   "source": [
    "# Get fft of displacements\n",
    "freqs = np.fft.fftfreq(video_np.shape[0], 1/fps)\n",
    "fft = np.fft.fft(displacements_algo[point, :, 0])\n",
    "plt.plot(freqs[:50], fft[:50])"
   ]
  },
  {
   "cell_type": "code",
   "execution_count": null,
   "id": "ce3a01df",
   "metadata": {},
   "outputs": [],
   "source": []
  }
 ],
 "metadata": {
  "kernelspec": {
   "display_name": "Python 3 (ipykernel)",
   "language": "python",
   "name": "python3"
  },
  "language_info": {
   "codemirror_mode": {
    "name": "ipython",
    "version": 3
   },
   "file_extension": ".py",
   "mimetype": "text/x-python",
   "name": "python",
   "nbconvert_exporter": "python",
   "pygments_lexer": "ipython3",
   "version": "3.7.16"
  }
 },
 "nbformat": 4,
 "nbformat_minor": 5
}
